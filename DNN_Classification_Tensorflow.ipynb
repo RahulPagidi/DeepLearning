{
  "nbformat": 4,
  "nbformat_minor": 0,
  "metadata": {
    "colab": {
      "name": "DNN Classification Tensorflow.ipynb",
      "provenance": [],
      "collapsed_sections": [],
      "authorship_tag": "ABX9TyMsPhSyc8YbfEmKzjsXEpSn",
      "include_colab_link": true
    },
    "kernelspec": {
      "name": "python3",
      "display_name": "Python 3"
    }
  },
  "cells": [
    {
      "cell_type": "markdown",
      "metadata": {
        "id": "view-in-github",
        "colab_type": "text"
      },
      "source": [
        "<a href=\"https://colab.research.google.com/github/RahulPagidi/DeepLearning/blob/master/DNN_Classification_Tensorflow.ipynb\" target=\"_parent\"><img src=\"https://colab.research.google.com/assets/colab-badge.svg\" alt=\"Open In Colab\"/></a>"
      ]
    },
    {
      "cell_type": "code",
      "metadata": {
        "id": "HltyBLkNgiQH",
        "colab_type": "code",
        "colab": {
          "base_uri": "https://localhost:8080/",
          "height": 359
        },
        "outputId": "662f0552-741d-42a2-adbd-49e41e71e756"
      },
      "source": [
        "\n",
        "import pandas as pd\n",
        "\n",
        "# load the training dataset (excluding rows with null values)\n",
        "penguins = pd.read_csv('/content/drive/My Drive/Colab Notebooks/ml-basics-master/data/penguins.csv').dropna()\n",
        "\n",
        "# Deep Learning models work best when features are on similar scales\n",
        "# In a real solution, we'd implement some custom normalization for each feature, but to keep things simple\n",
        "# we'll just rescale the FlipperLength and BodyMass so they're on a similar scale to the bill measurements\n",
        "penguins['FlipperLength'] = penguins['FlipperLength']/10\n",
        "penguins['BodyMass'] = penguins['BodyMass']/100\n",
        "\n",
        "# The dataset is too small to be useful for deep learning\n",
        "# So we'll oversample it to triple its size\n",
        "for i in range(1,3):\n",
        "    penguins = penguins.append(penguins)\n",
        "\n",
        "# Display a random sample of 10 observations\n",
        "sample = penguins.sample(10)\n",
        "sample.head(10)"
      ],
      "execution_count": 14,
      "outputs": [
        {
          "output_type": "execute_result",
          "data": {
            "text/html": [
              "<div>\n",
              "<style scoped>\n",
              "    .dataframe tbody tr th:only-of-type {\n",
              "        vertical-align: middle;\n",
              "    }\n",
              "\n",
              "    .dataframe tbody tr th {\n",
              "        vertical-align: top;\n",
              "    }\n",
              "\n",
              "    .dataframe thead th {\n",
              "        text-align: right;\n",
              "    }\n",
              "</style>\n",
              "<table border=\"1\" class=\"dataframe\">\n",
              "  <thead>\n",
              "    <tr style=\"text-align: right;\">\n",
              "      <th></th>\n",
              "      <th>CulmenLength</th>\n",
              "      <th>CulmenDepth</th>\n",
              "      <th>FlipperLength</th>\n",
              "      <th>BodyMass</th>\n",
              "      <th>Species</th>\n",
              "    </tr>\n",
              "  </thead>\n",
              "  <tbody>\n",
              "    <tr>\n",
              "      <th>132</th>\n",
              "      <td>36.8</td>\n",
              "      <td>18.5</td>\n",
              "      <td>19.3</td>\n",
              "      <td>35.00</td>\n",
              "      <td>0</td>\n",
              "    </tr>\n",
              "    <tr>\n",
              "      <th>27</th>\n",
              "      <td>40.5</td>\n",
              "      <td>17.9</td>\n",
              "      <td>18.7</td>\n",
              "      <td>32.00</td>\n",
              "      <td>0</td>\n",
              "    </tr>\n",
              "    <tr>\n",
              "      <th>78</th>\n",
              "      <td>36.2</td>\n",
              "      <td>16.1</td>\n",
              "      <td>18.7</td>\n",
              "      <td>35.50</td>\n",
              "      <td>0</td>\n",
              "    </tr>\n",
              "    <tr>\n",
              "      <th>305</th>\n",
              "      <td>52.8</td>\n",
              "      <td>20.0</td>\n",
              "      <td>20.5</td>\n",
              "      <td>45.50</td>\n",
              "      <td>2</td>\n",
              "    </tr>\n",
              "    <tr>\n",
              "      <th>325</th>\n",
              "      <td>49.8</td>\n",
              "      <td>17.3</td>\n",
              "      <td>19.8</td>\n",
              "      <td>36.75</td>\n",
              "      <td>2</td>\n",
              "    </tr>\n",
              "    <tr>\n",
              "      <th>99</th>\n",
              "      <td>43.2</td>\n",
              "      <td>18.5</td>\n",
              "      <td>19.2</td>\n",
              "      <td>41.00</td>\n",
              "      <td>0</td>\n",
              "    </tr>\n",
              "    <tr>\n",
              "      <th>144</th>\n",
              "      <td>37.3</td>\n",
              "      <td>16.8</td>\n",
              "      <td>19.2</td>\n",
              "      <td>30.00</td>\n",
              "      <td>0</td>\n",
              "    </tr>\n",
              "    <tr>\n",
              "      <th>125</th>\n",
              "      <td>40.6</td>\n",
              "      <td>19.0</td>\n",
              "      <td>19.9</td>\n",
              "      <td>40.00</td>\n",
              "      <td>0</td>\n",
              "    </tr>\n",
              "    <tr>\n",
              "      <th>159</th>\n",
              "      <td>46.7</td>\n",
              "      <td>15.3</td>\n",
              "      <td>21.9</td>\n",
              "      <td>52.00</td>\n",
              "      <td>1</td>\n",
              "    </tr>\n",
              "    <tr>\n",
              "      <th>166</th>\n",
              "      <td>45.8</td>\n",
              "      <td>14.6</td>\n",
              "      <td>21.0</td>\n",
              "      <td>42.00</td>\n",
              "      <td>1</td>\n",
              "    </tr>\n",
              "  </tbody>\n",
              "</table>\n",
              "</div>"
            ],
            "text/plain": [
              "     CulmenLength  CulmenDepth  FlipperLength  BodyMass  Species\n",
              "132          36.8         18.5           19.3     35.00        0\n",
              "27           40.5         17.9           18.7     32.00        0\n",
              "78           36.2         16.1           18.7     35.50        0\n",
              "305          52.8         20.0           20.5     45.50        2\n",
              "325          49.8         17.3           19.8     36.75        2\n",
              "99           43.2         18.5           19.2     41.00        0\n",
              "144          37.3         16.8           19.2     30.00        0\n",
              "125          40.6         19.0           19.9     40.00        0\n",
              "159          46.7         15.3           21.9     52.00        1\n",
              "166          45.8         14.6           21.0     42.00        1"
            ]
          },
          "metadata": {
            "tags": []
          },
          "execution_count": 14
        }
      ]
    },
    {
      "cell_type": "markdown",
      "metadata": {
        "id": "cxV1B6VUi8Ew",
        "colab_type": "text"
      },
      "source": [
        "The Species column is the label our model will predict. Each label value represents a class of penguin species, encoded as 0, 1, or 2. The following code shows the actual species to which these class labels corrrespond.\n"
      ]
    },
    {
      "cell_type": "code",
      "metadata": {
        "id": "YKfR_RGriZgF",
        "colab_type": "code",
        "colab": {
          "base_uri": "https://localhost:8080/",
          "height": 204
        },
        "outputId": "4021d078-14b6-4a05-e7d2-4c29204a3fa8"
      },
      "source": [
        "penguin_classes = ['Amelie', 'Gentoo', 'Chinstrap']\n",
        "print(sample.columns[0:5].values, 'SpeciesName')\n",
        "for index, row in penguins.sample(10).iterrows():\n",
        "    print('{',row[0], row[1], row[2],row[3], int(row[4]), '}',penguin_classes[int(row[-1])])"
      ],
      "execution_count": 16,
      "outputs": [
        {
          "output_type": "stream",
          "text": [
            "['CulmenLength' 'CulmenDepth' 'FlipperLength' 'BodyMass' 'Species'] SpeciesName\n",
            "{ 39.5 17.4 18.6 38.0 0 } Class: Amelie\n",
            "{ 46.4 18.6 19.0 34.5 2 } Class: Chinstrap\n",
            "{ 35.6 17.5 19.1 31.75 0 } Class: Amelie\n",
            "{ 35.0 17.9 19.0 34.5 0 } Class: Amelie\n",
            "{ 43.2 16.6 18.7 29.0 2 } Class: Chinstrap\n",
            "{ 49.0 19.5 21.0 39.5 2 } Class: Chinstrap\n",
            "{ 46.4 18.6 19.0 34.5 2 } Class: Chinstrap\n",
            "{ 41.1 18.6 18.9 33.25 0 } Class: Amelie\n",
            "{ 42.4 17.3 18.1 36.0 2 } Class: Chinstrap\n",
            "{ 37.5 18.5 19.9 44.75 0 } Class: Amelie\n"
          ],
          "name": "stdout"
        }
      ]
    },
    {
      "cell_type": "markdown",
      "metadata": {
        "id": "9EA7bX0Yjsii",
        "colab_type": "text"
      },
      "source": [
        "\n",
        "As is common in a supervised learning problem, we'll split the dataset into a set of records with which to train the model, and a smaller set with which to validate the trained model\n"
      ]
    },
    {
      "cell_type": "code",
      "metadata": {
        "id": "LqiaDZRvjxsv",
        "colab_type": "code",
        "colab": {
          "base_uri": "https://localhost:8080/",
          "height": 476
        },
        "outputId": "a1f5e767-fbc4-487c-e661-531ce38a93d5"
      },
      "source": [
        "\n",
        "from sklearn.model_selection import train_test_split\n",
        "\n",
        "features = ['CulmenLength','CulmenDepth','FlipperLength','BodyMass']\n",
        "label = 'Species'\n",
        "   \n",
        "# Split data 70%-30% into training set and test set\n",
        "x_train, x_test, y_train, y_test = train_test_split(penguins[features].values,\n",
        "                                                    penguins[label].values,\n",
        "                                                    test_size=0.30,\n",
        "                                                    random_state=0)\n",
        "\n",
        "print ('Training Set: %d, Test Set: %d \\n' % (len(x_train), len(x_test)))\n",
        "print(\"Sample of features and labels:\")\n",
        "\n",
        "# Take a look at the first 25 training features and corresponding labels\n",
        "for n in range(0,24):\n",
        "    print(x_train[n], y_train[n], '{' + penguin_classes[y_train[n]] + '}')"
      ],
      "execution_count": 18,
      "outputs": [
        {
          "output_type": "stream",
          "text": [
            "Training Set: 957, Test Set: 411 \n",
            "\n",
            "Sample of features and labels:\n",
            "[51.1 16.5 22.5 52.5] 1 {Gentoo}\n",
            "[50.7 19.7 20.3 40.5] 2 {Chinstrap}\n",
            "[49.5 16.2 22.9 58. ] 1 {Gentoo}\n",
            "[39.3 20.6 19.  36.5] 0 {Amelie}\n",
            "[42.5 20.7 19.7 45. ] 0 {Amelie}\n",
            "[50.  15.3 22.  55.5] 1 {Gentoo}\n",
            "[50.2  18.7  19.8  37.75] 2 {Chinstrap}\n",
            "[50.7 19.7 20.3 40.5] 2 {Chinstrap}\n",
            "[49.1  14.5  21.2  46.25] 1 {Gentoo}\n",
            "[43.2 16.6 18.7 29. ] 2 {Chinstrap}\n",
            "[38.8  17.6  19.1  32.75] 0 {Amelie}\n",
            "[37.8 17.1 18.6 33. ] 0 {Amelie}\n",
            "[45.8 14.2 21.9 47. ] 1 {Gentoo}\n",
            "[43.8 13.9 20.8 43. ] 1 {Gentoo}\n",
            "[36.  17.1 18.7 37. ] 0 {Amelie}\n",
            "[43.3 13.4 20.9 44. ] 1 {Gentoo}\n",
            "[36.  18.5 18.6 31. ] 0 {Amelie}\n",
            "[41.1  19.   18.2  34.25] 0 {Amelie}\n",
            "[33.1 16.1 17.8 29. ] 0 {Amelie}\n",
            "[40.9 13.7 21.4 46.5] 1 {Gentoo}\n",
            "[45.2 17.8 19.8 39.5] 2 {Chinstrap}\n",
            "[48.4 14.6 21.3 58.5] 1 {Gentoo}\n",
            "[43.6 13.9 21.7 49. ] 1 {Gentoo}\n",
            "[38.5  17.9  19.   33.25] 0 {Amelie}\n"
          ],
          "name": "stdout"
        }
      ]
    },
    {
      "cell_type": "markdown",
      "metadata": {
        "id": "VHdXclzWkBIg",
        "colab_type": "text"
      },
      "source": [
        "The features are the cupmen measurements for each penguin observation, and the label is a numeric value that indicates the species of penguin that the observation represents (Amelie, Gentoo, or Chinstrap)."
      ]
    },
    {
      "cell_type": "markdown",
      "metadata": {
        "id": "dAoIDuLKkGkX",
        "colab_type": "text"
      },
      "source": [
        "# **Import Tensorflow libraries**\n",
        "\n"
      ]
    },
    {
      "cell_type": "code",
      "metadata": {
        "id": "SNxl4M1zj-uv",
        "colab_type": "code",
        "colab": {
          "base_uri": "https://localhost:8080/",
          "height": 68
        },
        "outputId": "3c96d6ad-d865-47af-fdcd-705f0f3564b1"
      },
      "source": [
        "import tensorflow\n",
        "from tensorflow import keras\n",
        "from tensorflow.keras import models\n",
        "from tensorflow.keras.models import Sequential\n",
        "from tensorflow.keras.layers import Dense\n",
        "from tensorflow.keras import utils\n",
        "from tensorflow.keras import optimizers\n",
        "\n",
        "# Set random seed for reproducability\n",
        "tensorflow.random.set_seed(0)\n",
        "\n",
        "print(\"Libraries imported.\")\n",
        "print('Keras version:',keras.__version__)\n",
        "print('TensorFlow version:',tensorflow.__version__)"
      ],
      "execution_count": 19,
      "outputs": [
        {
          "output_type": "stream",
          "text": [
            "Libraries imported.\n",
            "Keras version: 2.4.0\n",
            "TensorFlow version: 2.3.0\n"
          ],
          "name": "stdout"
        }
      ]
    },
    {
      "cell_type": "markdown",
      "metadata": {
        "id": "VLVz0OTskkby",
        "colab_type": "text"
      },
      "source": [
        "We need to do some further data preparation so that our data will work correctly with Tensorflow. Specifically, we need to set the data type of our features to 32-bit floating point numbers, and specify that the labels represent categorical classes rather than numeric values.\n"
      ]
    },
    {
      "cell_type": "code",
      "metadata": {
        "id": "IbkU60-8kiDH",
        "colab_type": "code",
        "colab": {
          "base_uri": "https://localhost:8080/",
          "height": 34
        },
        "outputId": "3ba4b779-9005-495f-cd86-1aba84ceb652"
      },
      "source": [
        "# Set data types for float features\n",
        "x_train = x_train.astype('float32')\n",
        "x_test = x_test.astype('float32')\n",
        "\n",
        "# Set data types for categorical labels\n",
        "y_train = utils.to_categorical(y_train)\n",
        "y_test = utils.to_categorical(y_test)\n",
        "print('Ready...')"
      ],
      "execution_count": 20,
      "outputs": [
        {
          "output_type": "stream",
          "text": [
            "Ready...\n"
          ],
          "name": "stdout"
        }
      ]
    },
    {
      "cell_type": "markdown",
      "metadata": {
        "id": "_LNZpd8PksqD",
        "colab_type": "text"
      },
      "source": [
        "# **Define a neural network**\n",
        "Now we're ready to define our neural network. In this case, we'll create a network that consists of 3 fully-connected layers:\n",
        "\n",
        "\n",
        "1.   An input layer that receives an input value for each feature (in this case, the four penguin measurements) and applies a ReLU activation function.\n",
        "\n",
        "2.   A hidden layer that receives ten inputs and applies a ReLU activation function.\n",
        "\n",
        "3.  An output layer that uses a SoftMax activation function to generate an output for each penguin species (which represent the classification probabilities for each of the three possible penguin species)\n",
        "\n",
        "\n",
        "\n",
        "\n",
        "\n"
      ]
    },
    {
      "cell_type": "code",
      "metadata": {
        "id": "rOs4b4VYlHlT",
        "colab_type": "code",
        "colab": {
          "base_uri": "https://localhost:8080/",
          "height": 272
        },
        "outputId": "d20251e8-2433-4a56-a072-729b47dd75e3"
      },
      "source": [
        "# Define a classifier network\n",
        "hl = 10 # Number of hidden layer nodes\n",
        "\n",
        "model = Sequential()\n",
        "model.add(Dense(hl, input_dim=len(features), activation='relu'))\n",
        "model.add(Dense(hl, input_dim=hl, activation='relu'))\n",
        "model.add(Dense(len(penguin_classes), input_dim=hl, activation='softmax'))\n",
        "\n",
        "print(model.summary())"
      ],
      "execution_count": 21,
      "outputs": [
        {
          "output_type": "stream",
          "text": [
            "Model: \"sequential\"\n",
            "_________________________________________________________________\n",
            "Layer (type)                 Output Shape              Param #   \n",
            "=================================================================\n",
            "dense (Dense)                (None, 10)                50        \n",
            "_________________________________________________________________\n",
            "dense_1 (Dense)              (None, 10)                110       \n",
            "_________________________________________________________________\n",
            "dense_2 (Dense)              (None, 3)                 33        \n",
            "=================================================================\n",
            "Total params: 193\n",
            "Trainable params: 193\n",
            "Non-trainable params: 0\n",
            "_________________________________________________________________\n",
            "None\n"
          ],
          "name": "stdout"
        }
      ]
    },
    {
      "cell_type": "markdown",
      "metadata": {
        "id": "TmgReAK3lMwH",
        "colab_type": "text"
      },
      "source": [
        "# **Train the model**\n",
        "\n",
        "To train the model, we need to repeatedly feed the training values forward through the network, use a loss function to calculate the loss, use an optimizer to backpropagate the weight and bias value adjustments, and validate the model using the test data we withheld.\n",
        "\n",
        "To do this, we'll apply an Adam optimizer to a categorical cross-entropy loss function iteratively over 50 epochs."
      ]
    },
    {
      "cell_type": "code",
      "metadata": {
        "id": "UDWJl9IZlLdn",
        "colab_type": "code",
        "colab": {
          "base_uri": "https://localhost:8080/",
          "height": 1000
        },
        "outputId": "cefebc1d-ff35-4012-c96a-b88b9114ca54"
      },
      "source": [
        "#hyper-parameters for optimizer\n",
        "learning_rate = 0.001\n",
        "opt = optimizers.Adam(lr=learning_rate)\n",
        "\n",
        "model.compile(loss='categorical_crossentropy',\n",
        "              optimizer=opt,\n",
        "              metrics=['accuracy'])\n",
        "\n",
        "# Train the model over 50 epochs using 10-observation batches and using the test holdout dataset for validation\n",
        "num_epochs = 50\n",
        "history = model.fit(x_train, y_train, epochs=num_epochs, batch_size=10, validation_data=(x_test, y_test))"
      ],
      "execution_count": 22,
      "outputs": [
        {
          "output_type": "stream",
          "text": [
            "Epoch 1/50\n",
            "96/96 [==============================] - 0s 3ms/step - loss: 23.8942 - accuracy: 0.1912 - val_loss: 11.2900 - val_accuracy: 0.2165\n",
            "Epoch 2/50\n",
            "96/96 [==============================] - 0s 2ms/step - loss: 5.0865 - accuracy: 0.2142 - val_loss: 1.5626 - val_accuracy: 0.1752\n",
            "Epoch 3/50\n",
            "96/96 [==============================] - 0s 2ms/step - loss: 1.2712 - accuracy: 0.2727 - val_loss: 1.1591 - val_accuracy: 0.3139\n",
            "Epoch 4/50\n",
            "96/96 [==============================] - 0s 2ms/step - loss: 1.1068 - accuracy: 0.3814 - val_loss: 1.0832 - val_accuracy: 0.4453\n",
            "Epoch 5/50\n",
            "96/96 [==============================] - 0s 1ms/step - loss: 1.0432 - accuracy: 0.4598 - val_loss: 1.0545 - val_accuracy: 0.4574\n",
            "Epoch 6/50\n",
            "96/96 [==============================] - 0s 1ms/step - loss: 1.0258 - accuracy: 0.5183 - val_loss: 1.0425 - val_accuracy: 0.4842\n",
            "Epoch 7/50\n",
            "96/96 [==============================] - 0s 2ms/step - loss: 1.0118 - accuracy: 0.5601 - val_loss: 1.0315 - val_accuracy: 0.5547\n",
            "Epoch 8/50\n",
            "96/96 [==============================] - 0s 2ms/step - loss: 1.0008 - accuracy: 0.5998 - val_loss: 1.0189 - val_accuracy: 0.6156\n",
            "Epoch 9/50\n",
            "96/96 [==============================] - 0s 2ms/step - loss: 0.9920 - accuracy: 0.6207 - val_loss: 1.0050 - val_accuracy: 0.6521\n",
            "Epoch 10/50\n",
            "96/96 [==============================] - 0s 1ms/step - loss: 0.9762 - accuracy: 0.6667 - val_loss: 0.9911 - val_accuracy: 0.6618\n",
            "Epoch 11/50\n",
            "96/96 [==============================] - 0s 1ms/step - loss: 0.9639 - accuracy: 0.6949 - val_loss: 0.9781 - val_accuracy: 0.6813\n",
            "Epoch 12/50\n",
            "96/96 [==============================] - 0s 1ms/step - loss: 0.9394 - accuracy: 0.6803 - val_loss: 0.8758 - val_accuracy: 0.6350\n",
            "Epoch 13/50\n",
            "96/96 [==============================] - 0s 1ms/step - loss: 0.7998 - accuracy: 0.7200 - val_loss: 0.7991 - val_accuracy: 0.7129\n",
            "Epoch 14/50\n",
            "96/96 [==============================] - 0s 1ms/step - loss: 0.7341 - accuracy: 0.7450 - val_loss: 0.7380 - val_accuracy: 0.7202\n",
            "Epoch 15/50\n",
            "96/96 [==============================] - 0s 1ms/step - loss: 0.6758 - accuracy: 0.7764 - val_loss: 0.6802 - val_accuracy: 0.7421\n",
            "Epoch 16/50\n",
            "96/96 [==============================] - 0s 2ms/step - loss: 0.6188 - accuracy: 0.7847 - val_loss: 0.6292 - val_accuracy: 0.7470\n",
            "Epoch 17/50\n",
            "96/96 [==============================] - 0s 1ms/step - loss: 0.5758 - accuracy: 0.7973 - val_loss: 0.5871 - val_accuracy: 0.7567\n",
            "Epoch 18/50\n",
            "96/96 [==============================] - 0s 2ms/step - loss: 0.5425 - accuracy: 0.7962 - val_loss: 0.5660 - val_accuracy: 0.7786\n",
            "Epoch 19/50\n",
            "96/96 [==============================] - 0s 1ms/step - loss: 0.4958 - accuracy: 0.8297 - val_loss: 0.5272 - val_accuracy: 0.7786\n",
            "Epoch 20/50\n",
            "96/96 [==============================] - 0s 1ms/step - loss: 0.4662 - accuracy: 0.8213 - val_loss: 0.4849 - val_accuracy: 0.7713\n",
            "Epoch 21/50\n",
            "96/96 [==============================] - 0s 2ms/step - loss: 0.4431 - accuracy: 0.8318 - val_loss: 0.4676 - val_accuracy: 0.7640\n",
            "Epoch 22/50\n",
            "96/96 [==============================] - 0s 1ms/step - loss: 0.4158 - accuracy: 0.8422 - val_loss: 0.4518 - val_accuracy: 0.7689\n",
            "Epoch 23/50\n",
            "96/96 [==============================] - 0s 1ms/step - loss: 0.3913 - accuracy: 0.8527 - val_loss: 0.4383 - val_accuracy: 0.8054\n",
            "Epoch 24/50\n",
            "96/96 [==============================] - 0s 1ms/step - loss: 0.3711 - accuracy: 0.8662 - val_loss: 0.3915 - val_accuracy: 0.8224\n",
            "Epoch 25/50\n",
            "96/96 [==============================] - 0s 1ms/step - loss: 0.3530 - accuracy: 0.8746 - val_loss: 0.3924 - val_accuracy: 0.8808\n",
            "Epoch 26/50\n",
            "96/96 [==============================] - 0s 1ms/step - loss: 0.3328 - accuracy: 0.8934 - val_loss: 0.3521 - val_accuracy: 0.8710\n",
            "Epoch 27/50\n",
            "96/96 [==============================] - 0s 1ms/step - loss: 0.3167 - accuracy: 0.9080 - val_loss: 0.3362 - val_accuracy: 0.8759\n",
            "Epoch 28/50\n",
            "96/96 [==============================] - 0s 2ms/step - loss: 0.3006 - accuracy: 0.9195 - val_loss: 0.3216 - val_accuracy: 0.9002\n",
            "Epoch 29/50\n",
            "96/96 [==============================] - 0s 2ms/step - loss: 0.2822 - accuracy: 0.9310 - val_loss: 0.3074 - val_accuracy: 0.8929\n",
            "Epoch 30/50\n",
            "96/96 [==============================] - 0s 2ms/step - loss: 0.2696 - accuracy: 0.9363 - val_loss: 0.2890 - val_accuracy: 0.9075\n",
            "Epoch 31/50\n",
            "96/96 [==============================] - 0s 1ms/step - loss: 0.2539 - accuracy: 0.9446 - val_loss: 0.2870 - val_accuracy: 0.8662\n",
            "Epoch 32/50\n",
            "96/96 [==============================] - 0s 1ms/step - loss: 0.2422 - accuracy: 0.9394 - val_loss: 0.2752 - val_accuracy: 0.8832\n",
            "Epoch 33/50\n",
            "96/96 [==============================] - 0s 1ms/step - loss: 0.2292 - accuracy: 0.9457 - val_loss: 0.2491 - val_accuracy: 0.9148\n",
            "Epoch 34/50\n",
            "96/96 [==============================] - 0s 1ms/step - loss: 0.2142 - accuracy: 0.9509 - val_loss: 0.2343 - val_accuracy: 0.9367\n",
            "Epoch 35/50\n",
            "96/96 [==============================] - 0s 1ms/step - loss: 0.2034 - accuracy: 0.9530 - val_loss: 0.2233 - val_accuracy: 0.9489\n",
            "Epoch 36/50\n",
            "96/96 [==============================] - 0s 1ms/step - loss: 0.1929 - accuracy: 0.9624 - val_loss: 0.2061 - val_accuracy: 0.9635\n",
            "Epoch 37/50\n",
            "96/96 [==============================] - 0s 1ms/step - loss: 0.1807 - accuracy: 0.9561 - val_loss: 0.2004 - val_accuracy: 0.9562\n",
            "Epoch 38/50\n",
            "96/96 [==============================] - 0s 1ms/step - loss: 0.1724 - accuracy: 0.9655 - val_loss: 0.1851 - val_accuracy: 0.9732\n",
            "Epoch 39/50\n",
            "96/96 [==============================] - 0s 1ms/step - loss: 0.1618 - accuracy: 0.9718 - val_loss: 0.1749 - val_accuracy: 0.9757\n",
            "Epoch 40/50\n",
            "96/96 [==============================] - 0s 1ms/step - loss: 0.1516 - accuracy: 0.9687 - val_loss: 0.1627 - val_accuracy: 0.9684\n",
            "Epoch 41/50\n",
            "96/96 [==============================] - 0s 2ms/step - loss: 0.1430 - accuracy: 0.9707 - val_loss: 0.1555 - val_accuracy: 0.9708\n",
            "Epoch 42/50\n",
            "96/96 [==============================] - 0s 2ms/step - loss: 0.1393 - accuracy: 0.9666 - val_loss: 0.1717 - val_accuracy: 0.9465\n",
            "Epoch 43/50\n",
            "96/96 [==============================] - 0s 2ms/step - loss: 0.1286 - accuracy: 0.9781 - val_loss: 0.1403 - val_accuracy: 0.9805\n",
            "Epoch 44/50\n",
            "96/96 [==============================] - 0s 2ms/step - loss: 0.1235 - accuracy: 0.9749 - val_loss: 0.1313 - val_accuracy: 0.9781\n",
            "Epoch 45/50\n",
            "96/96 [==============================] - 0s 2ms/step - loss: 0.1134 - accuracy: 0.9749 - val_loss: 0.1223 - val_accuracy: 0.9805\n",
            "Epoch 46/50\n",
            "96/96 [==============================] - 0s 1ms/step - loss: 0.1085 - accuracy: 0.9801 - val_loss: 0.1165 - val_accuracy: 0.9830\n",
            "Epoch 47/50\n",
            "96/96 [==============================] - 0s 1ms/step - loss: 0.1034 - accuracy: 0.9833 - val_loss: 0.1173 - val_accuracy: 0.9732\n",
            "Epoch 48/50\n",
            "96/96 [==============================] - 0s 1ms/step - loss: 0.0971 - accuracy: 0.9833 - val_loss: 0.1118 - val_accuracy: 0.9805\n",
            "Epoch 49/50\n",
            "96/96 [==============================] - 0s 1ms/step - loss: 0.0922 - accuracy: 0.9833 - val_loss: 0.1018 - val_accuracy: 0.9830\n",
            "Epoch 50/50\n",
            "96/96 [==============================] - 0s 1ms/step - loss: 0.0894 - accuracy: 0.9822 - val_loss: 0.1046 - val_accuracy: 0.9708\n"
          ],
          "name": "stdout"
        }
      ]
    },
    {
      "cell_type": "markdown",
      "metadata": {
        "id": "hxYJH9yxll6K",
        "colab_type": "text"
      },
      "source": [
        "# **Review training and validation loss**\n",
        "\n",
        "After training is complete, we can examine the loss metrics we recorded while training and validating the model. We're really looking for two things:\n",
        "\n",
        "The loss should reduce with each epoch, showing that the model is learning the right weights and biases to predict the correct labels.\n",
        "The training loss and validations loss should follow a similar trend, showing that the model is not overfitting to the training data.\n",
        "Let's plot the loss metrics and see:"
      ]
    },
    {
      "cell_type": "code",
      "metadata": {
        "id": "RnA9PPKIligv",
        "colab_type": "code",
        "colab": {
          "base_uri": "https://localhost:8080/",
          "height": 283
        },
        "outputId": "1b6e94ae-fdab-48eb-a63a-a8d2ec89b997"
      },
      "source": [
        "%matplotlib inline\n",
        "from matplotlib import pyplot as plt\n",
        "\n",
        "epoch_nums = range(1,num_epochs+1)\n",
        "training_loss = history.history[\"loss\"]\n",
        "validation_loss = history.history[\"val_loss\"]\n",
        "plt.plot(epoch_nums, training_loss)\n",
        "plt.plot(epoch_nums, validation_loss)\n",
        "plt.xlabel('epoch')\n",
        "plt.ylabel('loss')\n",
        "plt.legend(['training', 'validation'], loc='upper right')\n",
        "plt.show()"
      ],
      "execution_count": 23,
      "outputs": [
        {
          "output_type": "display_data",
          "data": {
            "image/png": "[encoded data removed]",
            "text/plain": [
              "<Figure size 432x288 with 1 Axes>"
            ]
          },
          "metadata": {
            "tags": [],
            "needs_background": "light"
          }
        }
      ]
    },
    {
      "cell_type": "markdown",
      "metadata": {
        "id": "Yc6Efy9ElzAw",
        "colab_type": "text"
      },
      "source": [
        "# **View the learned weights and biases**\n",
        "The trained model consists of the final weights and biases that were determined by the optimizer during training. Based on our network model we should expect the following values for each layer:\n",
        "\n",
        "\n",
        "*   Layer 1: There are four input values going to ten output nodes, so there should be 4 x 10 weights and 10 bias values.\n",
        "\n",
        "*   Layer 2: There are ten input values going to ten output nodes, so there should be 10 x 10 weights and 10 bias values.\n",
        "\n",
        "*   Layer 3: There are ten input values going to three output nodes, so there should be 10 x 3 weights and 3 bias values.\n",
        "\n",
        "\n",
        "\n"
      ]
    },
    {
      "cell_type": "code",
      "metadata": {
        "id": "kKtjwp01lyJj",
        "colab_type": "code",
        "colab": {
          "base_uri": "https://localhost:8080/",
          "height": 901
        },
        "outputId": "a8ccacb6-482b-48bf-b070-231179e4d887"
      },
      "source": [
        "\n",
        "for layer in model.layers:\n",
        "    weights = layer.get_weights()[0]\n",
        "    biases = layer.get_weights()[1]\n",
        "    print('------------\\nWeights:\\n',weights,'\\nBiases:\\n', biases)"
      ],
      "execution_count": 24,
      "outputs": [
        {
          "output_type": "stream",
          "text": [
            "------------\n",
            "Weights:\n",
            " [[-0.27236846 -0.3841947   0.03324002  0.08020484 -0.10909867  0.05677451\n",
            "  -0.19284698  0.84637886  0.35794362 -0.4905011 ]\n",
            " [ 0.27471453  0.21265197  0.08151422 -0.17707926 -0.10406601  0.80808747\n",
            "   0.34789595 -0.05428037 -0.6077914  -0.5447268 ]\n",
            " [-0.28836262 -0.634329    0.2833845   0.34767175  0.23550075 -0.01212125\n",
            "   0.14559275 -0.7978692  -0.5164289   0.3296095 ]\n",
            " [-0.42851955 -0.24623463 -0.28597653 -0.5230521  -0.43773973  0.3698577\n",
            "  -0.0764817   0.23638266  0.75253874 -0.4691702 ]] \n",
            "Biases:\n",
            " [ 0.          0.         -0.01292539  0.          0.          0.20184621\n",
            " -0.19173315 -0.2613483  -0.31521523  0.        ]\n",
            "------------\n",
            "Weights:\n",
            " [[ 0.0607031  -0.30530828  0.39975524  0.3037489   0.15896738  0.03326017\n",
            "  -0.53190327  0.40915883 -0.03316814 -0.1240823 ]\n",
            " [ 0.42301047  0.14984506 -0.54566675  0.3919103  -0.4295466   0.50397205\n",
            "  -0.31616646  0.17803025 -0.41518384 -0.38429344]\n",
            " [ 0.5336163   0.37752342 -0.4694244   0.17206895 -0.04215616  0.5297911\n",
            "   0.4356906   0.28243893  0.26588047 -0.2233491 ]\n",
            " [-0.04491103  0.19579428 -0.26655364  0.17358297  0.3112036   0.53520477\n",
            "  -0.3109483  -0.5284722  -0.00098199 -0.44063687]\n",
            " [ 0.5135      0.39074183  0.39206952 -0.03048635  0.02663547  0.20555359\n",
            "   0.09307003  0.24590033 -0.49007446 -0.2917699 ]\n",
            " [ 0.5036509  -0.3901862   0.6040682   0.29417115 -0.26569188 -0.5313456\n",
            "   0.4142745  -0.15646031  0.00371225 -0.04586926]\n",
            " [ 0.26545775 -0.19090915  0.06543594 -0.30627972  0.12806404 -0.38203925\n",
            "  -0.21518531  0.41642922  0.2622466  -0.49726105]\n",
            " [-0.43842497 -0.21495155 -0.14270823 -0.46094683 -0.20800981  0.3025053\n",
            "  -0.01376537  0.40885377  0.27342078 -0.25861204]\n",
            " [-0.5077288  -0.4176368  -0.24631864 -0.49696004 -0.27225545 -0.38996994\n",
            "  -0.40839174  0.1656025  -0.26306093  0.2282074 ]\n",
            " [ 0.32320213 -0.30822456 -0.37115166  0.45703936 -0.35191107  0.24120325\n",
            "  -0.2000556   0.23292273 -0.33508268 -0.51532805]] \n",
            "Biases:\n",
            " [-0.03101527  0.          0.43818405  0.          0.          0.\n",
            "  0.12236568 -0.29204667 -0.3032516  -0.0152769 ]\n",
            "------------\n",
            "Weights:\n",
            " [[-0.3835068   0.32607827 -0.04719008]\n",
            " [ 0.50995994 -0.12620813 -0.6595991 ]\n",
            " [ 0.5340333   0.02766346 -0.2162291 ]\n",
            " [ 0.54463303 -0.50025463  0.06109887]\n",
            " [ 0.26757038 -0.67376095 -0.18467396]\n",
            " [ 0.08888024 -0.2536324   0.20257705]\n",
            " [ 1.1713445  -1.5687051   0.64110833]\n",
            " [-0.49163976  0.38573575  0.19552378]\n",
            " [-0.52561677 -0.34712166  0.6831371 ]\n",
            " [ 0.6409571  -0.6129823  -0.03113725]] \n",
            "Biases:\n",
            " [ 0.32175848  0.46051487 -0.49325737]\n"
          ],
          "name": "stdout"
        }
      ]
    },
    {
      "cell_type": "markdown",
      "metadata": {
        "id": "kBB1ZnTdmWnS",
        "colab_type": "text"
      },
      "source": [
        "# **Evaluate model performance**\n",
        "So, is the model any good? The raw accuracy reported from the validation data would seem to indicate that it predicts pretty well; but it's typically useful to dig a little deeper and compare the predictions for each possible class. A common way to visualize the performace of a classification model is to create a confusion matrix that shows a crosstab of correct and incorrect predictions for each class."
      ]
    },
    {
      "cell_type": "code",
      "metadata": {
        "id": "eAI9smbTmbhH",
        "colab_type": "code",
        "colab": {
          "base_uri": "https://localhost:8080/",
          "height": 318
        },
        "outputId": "8c13f616-b113-4201-eec3-77e0df266e3c"
      },
      "source": [
        "\n",
        "# Tensorflow doesn't have a built-in confusion matrix metric, so we'll use SciKit-Learn\n",
        "import numpy as np\n",
        "from sklearn.metrics import confusion_matrix\n",
        "import matplotlib.pyplot as plt\n",
        "%matplotlib inline\n",
        "\n",
        "\n",
        "class_probabilities = model.predict(x_test)\n",
        "predictions = np.argmax(class_probabilities, axis=1)\n",
        "true_labels = np.argmax(y_test, axis=1)\n",
        "\n",
        "# Plot the confusion matrix\n",
        "cm = confusion_matrix(true_labels, predictions)\n",
        "plt.imshow(cm, interpolation=\"nearest\", cmap=plt.cm.Blues)\n",
        "plt.colorbar()\n",
        "tick_marks = np.arange(len(penguin_classes))\n",
        "plt.xticks(tick_marks, penguin_classes, rotation=85)\n",
        "plt.yticks(tick_marks, penguin_classes)\n",
        "plt.xlabel(\"Predicted Class\")\n",
        "plt.ylabel(\"True Class\")\n",
        "plt.show()"
      ],
      "execution_count": 26,
      "outputs": [
        {
          "output_type": "display_data",
          "data": {
            "image/png": "[encoded data removed]",
            "text/plain": [
              "<Figure size 432x288 with 2 Axes>"
            ]
          },
          "metadata": {
            "tags": [],
            "needs_background": "light"
          }
        }
      ]
    },
    {
      "cell_type": "markdown",
      "metadata": {
        "id": "nJ6OSrcJmlS_",
        "colab_type": "text"
      },
      "source": [
        "The confusion matrix should show a strong diagonal line indicating that there are more correct than incorrect predictions for each class.\n",
        "\n",
        "# **Use the trained model**\n",
        "Now that we have a model we believe is reasonably accurate, we can use it to predict the species of new penguin observations:\n",
        "\n"
      ]
    },
    {
      "cell_type": "code",
      "metadata": {
        "id": "vHVePMqymqiH",
        "colab_type": "code",
        "colab": {}
      },
      "source": [
        "\n",
        "# Save the trained model\n",
        "modelFileName = '/content/drive/My Drive/Colab Notebooks/DNN_Tensorflow/models/penguin-classifier.h5'\n",
        "model.save(modelFileName)\n",
        "\n",
        "# Load the saved model when required\n",
        "del model  # deletes the existing model variable\n",
        "model = models.load_model(modelFileName) # loads the saved model\n",
        "\n"
      ],
      "execution_count": 48,
      "outputs": []
    },
    {
      "cell_type": "code",
      "metadata": {
        "id": "TJSzFIItoRN3",
        "colab_type": "code",
        "colab": {
          "base_uri": "https://localhost:8080/",
          "height": 85
        },
        "outputId": "7714b51f-9629-4eff-8abc-07378cbcd5e1"
      },
      "source": [
        "CulmenLength = input(\"Enter CulmenLength: \")\n",
        "CulmenDepth = input(\"Enter CulmenDepth: \") \n",
        "FlipperLength = input(\"Enter FlipperLength: \" )\n",
        "BodyMass = input(\"Enter BodyMass: \")"
      ],
      "execution_count": 47,
      "outputs": [
        {
          "output_type": "stream",
          "text": [
            "Enter CulmenLength: 50.4\n",
            "Enter CulmenDepth: 15.3\n",
            "Enter FlipperLength: 20\n",
            "Enter BodyMass: 50\n"
          ],
          "name": "stdout"
        }
      ]
    },
    {
      "cell_type": "code",
      "metadata": {
        "id": "pAybgY8YnShe",
        "colab_type": "code",
        "colab": {
          "base_uri": "https://localhost:8080/",
          "height": 51
        },
        "outputId": "744f2957-53f1-4a16-b690-ae845e6b82a8"
      },
      "source": [
        "\n",
        "x_new = np.array([[CulmenLength,CulmenDepth,FlipperLength,BodyMass]]).astype('float64')\n",
        "print ('New sample: {}'.format(x_new))\n",
        "\n",
        "class_probabilities = model.predict(x_new)\n",
        "predictions = np.argmax(class_probabilities, axis=1)\n",
        "\n",
        "print(penguin_classes[predictions[0]])"
      ],
      "execution_count": 49,
      "outputs": [
        {
          "output_type": "stream",
          "text": [
            "New sample: [[50.4 15.3 20.  50. ]]\n",
            "Gentoo\n"
          ],
          "name": "stdout"
        }
      ]
    }
  ]
}